{
  "nbformat": 4,
  "nbformat_minor": 0,
  "metadata": {
    "colab": {
      "provenance": []
    },
    "kernelspec": {
      "name": "python3",
      "display_name": "Python 3"
    }
  },
  "cells": [
    {
      "cell_type": "code",
      "metadata": {
        "id": "m2LORfwvfVNP"
      },
      "source": [
        "import numpy as np\n",
        "import pandas as pd\n",
        "import matplotlib.pyplot as plt\n",
        "from numpy import reshape\n",
        "from sklearn import linear_model\n",
        "from sklearn.linear_model import LinearRegression\n",
        "from sklearn.model_selection import train_test_split\n",
        "from sklearn import preprocessing\n",
        "from sklearn.preprocessing import RobustScaler\n",
        "from sklearn.model_selection import train_test_split, GridSearchCV\n",
        "from sklearn.compose import ColumnTransformer\n",
        "from sklearn.datasets import fetch_openml\n",
        "from sklearn.pipeline import Pipeline\n",
        "from sklearn.impute import SimpleImputer\n",
        "from xgboost.sklearn import XGBClassifier\n",
        "from sklearn.preprocessing import RobustScaler, OneHotEncoder\n",
        "from google.colab import drive"
      ],
      "execution_count": null,
      "outputs": []
    },
    {
      "cell_type": "code",
      "metadata": {
        "id": "VmqzvBvNfk9W",
        "outputId": "3a3f823b-bdd7-4ded-924f-ed6ca3724d01",
        "colab": {
          "base_uri": "https://localhost:8080/",
          "height": 122
        }
      },
      "source": [
        "drive.mount(\"/content/drive\") "
      ],
      "execution_count": null,
      "outputs": [
        {
          "output_type": "stream",
          "text": [
            "Go to this URL in a browser: https://accounts.google.com/o/oauth2/auth?client_id=947318989803-6bn6qk8qdgf4n4g3pfee6491hc0brc4i.apps.googleusercontent.com&redirect_uri=urn%3aietf%3awg%3aoauth%3a2.0%3aoob&response_type=code&scope=email%20https%3a%2f%2fwww.googleapis.com%2fauth%2fdocs.test%20https%3a%2f%2fwww.googleapis.com%2fauth%2fdrive%20https%3a%2f%2fwww.googleapis.com%2fauth%2fdrive.photos.readonly%20https%3a%2f%2fwww.googleapis.com%2fauth%2fpeopleapi.readonly\n",
            "\n",
            "Enter your authorization code:\n",
            "··········\n",
            "Mounted at /content/drive\n"
          ],
          "name": "stdout"
        }
      ]
    },
    {
      "cell_type": "code",
      "metadata": {
        "id": "xUkyPb12menc"
      },
      "source": [
        "#Clean data\n",
        "data = pd.read_csv('/content/drive/My Drive/ks-projects-201801.csv', engine='python')\n",
        "data = data.query('state != \"live\" and state != \"undefined\"')\n",
        "data = data.drop(columns=['ID','goal','usd pledged', 'pledged'])\n",
        "data = data.query('usd_pledged_real < 5000000')\n",
        "data = data.query('backers > 10')\n",
        "data = data.query('usd_goal_real < 1000000')"
      ],
      "execution_count": null,
      "outputs": []
    },
    {
      "cell_type": "code",
      "metadata": {
        "id": "wIuJarHSmXJW",
        "outputId": "b26deb7a-9328-4d3c-df31-afd6e7d5a0ed",
        "colab": {
          "base_uri": "https://localhost:8080/",
          "height": 270
        }
      },
      "source": [
        "#Visualize correlation for numeric values\n",
        "import seaborn as sns\n",
        "plt.figure()\n",
        "cor = data.corr()\n",
        "sns.heatmap(cor, annot=True, cmap=plt.cm.Reds)\n",
        "plt.show()"
      ],
      "execution_count": null,
      "outputs": [
        {
          "output_type": "display_data",
          "data": {
            "image/png": "[encoded data removed]",
            "text/plain": [
              "<Figure size 432x288 with 2 Axes>"
            ]
          },
          "metadata": {
            "tags": [],
            "needs_background": "light"
          }
        }
      ]
    },
    {
      "cell_type": "code",
      "metadata": {
        "id": "HSSBseiCnBaM"
      },
      "source": [
        "#Setup Transformers\n",
        "categorical_transformer = Pipeline(steps=[\n",
        "    ('imputer', SimpleImputer(strategy='constant', fill_value='missing')),\n",
        "    ('onehot', OneHotEncoder(handle_unknown='ignore'))])\n",
        "\n",
        "numeric_transformer = Pipeline(steps=[\n",
        "    ('imputer', SimpleImputer(strategy='median')),\n",
        "    ('scaler', RobustScaler())])"
      ],
      "execution_count": null,
      "outputs": []
    },
    {
      "cell_type": "code",
      "metadata": {
        "id": "KcaN43e9foDF",
        "outputId": "95b963bb-1497-4b7a-8313-4693d2ce6e57",
        "colab": {
          "base_uri": "https://localhost:8080/",
          "height": 282
        }
      },
      "source": [
        "#Setup data for category vs pledged\n",
        "x_data = data[['main_category']]\n",
        "y_data = data[['usd_pledged_real']]\n",
        "\n",
        "x_transformer = categorical_transformer.fit(x_data)\n",
        "y_transformer = numeric_transformer.fit(y_data)\n",
        "x_data = x_transformer.transform(x_data)\n",
        "y_data = y_transformer.transform(y_data)\n",
        "\n",
        "x_train, x_test, y_train, y_test = train_test_split(x_data, y_data, test_size=0.3)"
      ],
      "execution_count": null,
      "outputs": [
        {
          "output_type": "execute_result",
          "data": {
            "text/plain": [
              "<matplotlib.axes._subplots.AxesSubplot at 0x7f51438b8710>"
            ]
          },
          "metadata": {
            "tags": []
          },
          "execution_count": 19
        },
        {
          "output_type": "display_data",
          "data": {
            "image/png": "[encoded data removed]",
            "text/plain": [
              "<Figure size 432x288 with 1 Axes>"
            ]
          },
          "metadata": {
            "tags": [],
            "needs_background": "light"
          }
        }
      ]
    },
    {
      "cell_type": "code",
      "metadata": {
        "id": "Jr4bOK9li7r_",
        "outputId": "4fd5a44d-dfb0-49f9-a02c-b083a0c07e69",
        "colab": {
          "base_uri": "https://localhost:8080/",
          "height": 51
        }
      },
      "source": [
        "#Solve regression model for category vs pledged\n",
        "reg = LinearRegression()\n",
        "reg.fit(x_train,y_train)\n",
        "print(reg.score(x_train,y_train))\n",
        "print(reg.score(x_test,y_test))"
      ],
      "execution_count": null,
      "outputs": [
        {
          "output_type": "stream",
          "text": [
            "0.017478069924526385\n",
            "0.018393188879140876\n"
          ],
          "name": "stdout"
        }
      ]
    },
    {
      "cell_type": "code",
      "metadata": {
        "id": "RE3nT5vCmC8N",
        "outputId": "64feda89-f5e5-4798-ff1d-b2c8039a864b",
        "colab": {
          "base_uri": "https://localhost:8080/",
          "height": 282
        }
      },
      "source": [
        "#Setup data for backers vs pledged\n",
        "x_data = data[['backers']]\n",
        "y_data = data[['usd_pledged_real']]\n",
        "\n",
        "x_transformer = numeric_transformer.fit(x_data)\n",
        "y_transformer = numeric_transformer.fit(y_data)\n",
        "x_data = x_transformer.transform(x_data)\n",
        "y_data = y_transformer.transform(y_data)\n",
        "\n",
        "x_train, x_test, y_train, y_test = train_test_split(x_data, y_data, test_size=0.3)"
      ],
      "execution_count": null,
      "outputs": [
        {
          "output_type": "execute_result",
          "data": {
            "text/plain": [
              "<matplotlib.axes._subplots.AxesSubplot at 0x7f513b180ac8>"
            ]
          },
          "metadata": {
            "tags": []
          },
          "execution_count": 26
        },
        {
          "output_type": "display_data",
          "data": {
            "image/png": "[encoded data removed]",
            "text/plain": [
              "<Figure size 432x288 with 1 Axes>"
            ]
          },
          "metadata": {
            "tags": [],
            "needs_background": "light"
          }
        }
      ]
    },
    {
      "cell_type": "code",
      "metadata": {
        "id": "Xf-5e3RFmLbG",
        "outputId": "dddb102f-23f7-4cd9-9b8c-29723c45092a",
        "colab": {
          "base_uri": "https://localhost:8080/",
          "height": 51
        }
      },
      "source": [
        "#Solve regression for backers vs pledged\n",
        "reg = LinearRegression()\n",
        "reg.fit(x_train,y_train)\n",
        "print(reg.score(x_train,y_train))\n",
        "print(reg.score(x_test,y_test))"
      ],
      "execution_count": null,
      "outputs": [
        {
          "output_type": "stream",
          "text": [
            "0.5613577454143293\n",
            "0.5843585591295023\n"
          ],
          "name": "stdout"
        }
      ]
    }
  ]
}