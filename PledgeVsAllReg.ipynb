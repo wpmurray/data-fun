{
  "nbformat": 4,
  "nbformat_minor": 0,
  "metadata": {
    "colab": {
      "provenance": [],
      "machine_shape": "hm"
    },
    "kernelspec": {
      "name": "python3",
      "display_name": "Python 3"
    }
  },
  "cells": [
    {
      "cell_type": "code",
      "metadata": {
        "id": "mzn409U3sKIW"
      },
      "source": [
        "import numpy as np\n",
        "import pandas as pd\n",
        "from google.colab import drive"
      ],
      "execution_count": null,
      "outputs": []
    },
    {
      "cell_type": "code",
      "metadata": {
        "id": "F_Dqx8gpx6G9",
        "colab": {
          "base_uri": "https://localhost:8080/",
          "height": 34
        },
        "outputId": "3b8f2784-641f-447a-ffb2-28df2dddf52c"
      },
      "source": [
        "drive.mount(\"/content/drive\") "
      ],
      "execution_count": null,
      "outputs": [
        {
          "output_type": "stream",
          "text": [
            "Drive already mounted at /content/drive; to attempt to forcibly remount, call drive.mount(\"/content/drive\", force_remount=True).\n"
          ],
          "name": "stdout"
        }
      ]
    },
    {
      "cell_type": "code",
      "metadata": {
        "id": "bT8bCysfx7aS"
      },
      "source": [
        "#Clean the data\n",
        "data = pd.read_csv('/content/drive/My Drive/ks-projects-201801.csv', engine='python')\n",
        "data = data.drop(columns=['goal','usd pledged', 'pledged'])\n",
        "data = data.query('state != \"live\" and state != \"undefined\"')\n",
        "data = data.query('usd_pledged_real < 5000000')\n",
        "data = data.query('backers > 10')\n",
        "data = data.query('usd_goal_real < 1000000')\n"
      ],
      "execution_count": null,
      "outputs": []
    },
    {
      "cell_type": "code",
      "metadata": {
        "id": "HCV4q4BRzGm5"
      },
      "source": [
        "#Setup Data\n",
        "x_data = data.drop(columns=['usd_pledged_real'])\n",
        "y_data = data[['usd_pledged_real']]\n",
        "\n"
      ],
      "execution_count": null,
      "outputs": []
    },
    {
      "cell_type": "code",
      "metadata": {
        "id": "7CmrQGqEzr3G"
      },
      "source": [
        "from sklearn.model_selection import train_test_split, GridSearchCV"
      ],
      "execution_count": null,
      "outputs": []
    },
    {
      "cell_type": "code",
      "metadata": {
        "id": "FGzvGLcZykV6",
        "colab": {
          "base_uri": "https://localhost:8080/",
          "height": 85
        },
        "outputId": "82109d5e-ede0-4eba-a343-14993aa2c5e1"
      },
      "source": [
        "#Setup Testing Sets\n",
        "\n",
        "x_train, x_test, y_train, y_test = train_test_split(x_data, y_data, test_size=0.3)\n",
        "\n",
        "test_ids = x_test.ID\n",
        "print('x training shape =', x_train.shape)\n",
        "print('y training shape =', y_train.shape)\n",
        "print('x testing shape =', x_test.shape)\n",
        "print('y testing shape =', y_test.shape)"
      ],
      "execution_count": null,
      "outputs": [
        {
          "output_type": "stream",
          "text": [
            "x training shape = (135479, 11)\n",
            "y training shape = (135479, 1)\n",
            "x testing shape = (58063, 11)\n",
            "y testing shape = (58063, 1)\n"
          ],
          "name": "stdout"
        }
      ]
    },
    {
      "cell_type": "code",
      "metadata": {
        "id": "AKXlsghEy5Og"
      },
      "source": [
        "from sklearn.compose import ColumnTransformer\n",
        "from sklearn.pipeline import Pipeline\n",
        "from sklearn.impute import SimpleImputer\n",
        "from sklearn.preprocessing import RobustScaler, OneHotEncoder"
      ],
      "execution_count": null,
      "outputs": []
    },
    {
      "cell_type": "code",
      "metadata": {
        "id": "ezPPTXsOyo5t"
      },
      "source": [
        "#Setup Preprocessing \n",
        "numeric_features = ['backers', 'usd_goal_real']\n",
        "numeric_transformer = Pipeline(steps=[\n",
        "    ('imputer', SimpleImputer(strategy='median')),\n",
        "    ('scaler', RobustScaler())])\n",
        "\n",
        "categorical_features = [\n",
        "  'category', 'main_category', 'currency', 'state', 'country']\n",
        "categorical_transformer = Pipeline(steps=[\n",
        "    ('imputer', SimpleImputer(strategy='constant', fill_value='missing')),\n",
        "    ('onehot', OneHotEncoder(handle_unknown='ignore'))])\n",
        "\n",
        "preprocessor = ColumnTransformer(\n",
        "    transformers=[\n",
        "        ('num', numeric_transformer, numeric_features),\n",
        "        ('cat', categorical_transformer, categorical_features)])"
      ],
      "execution_count": null,
      "outputs": []
    },
    {
      "cell_type": "code",
      "metadata": {
        "id": "2MKWfmpcy4Z-"
      },
      "source": [
        "from sklearn.neighbors import KNeighborsRegressor\n",
        "from sklearn.feature_selection import SelectFromModel\n",
        "from sklearn.decomposition import TruncatedSVD\n",
        "from sklearn.naive_bayes import GaussianNB\n",
        "from sklearn.ensemble import GradientBoostingRegressor"
      ],
      "execution_count": null,
      "outputs": []
    },
    {
      "cell_type": "code",
      "metadata": {
        "id": "8ltSFVv5zfv_"
      },
      "source": [
        "#Setup model\n",
        "regr = Pipeline(steps=[('preprocessor', preprocessor),\n",
        "                       ('regressor', KNeighborsRegressor())])\n",
        "\n",
        "x_train = x_train[[*numeric_features, *categorical_features]]\n",
        "x_test = x_test[[*numeric_features, *categorical_features]]\n",
        "\n",
        "param_grid = {\n",
        "    'preprocessor__num__imputer__strategy': ['mean'],\n",
        "    'regressor__n_neighbors': [10]\n",
        "}\n",
        "\n",
        "grid_search = GridSearchCV(\n",
        "    regr, param_grid, cv=5, verbose=3, n_jobs=2\n",
        ")"
      ],
      "execution_count": null,
      "outputs": []
    },
    {
      "cell_type": "code",
      "metadata": {
        "id": "2uzX0HucCDON"
      },
      "source": [
        "model = grid_search.fit(x_train, y_train)"
      ],
      "execution_count": null,
      "outputs": []
    },
    {
      "cell_type": "code",
      "metadata": {
        "id": "boBrD_Y3a_Bj"
      },
      "source": [
        "from sklearn.metrics import r2_score"
      ],
      "execution_count": null,
      "outputs": []
    },
    {
      "cell_type": "code",
      "metadata": {
        "id": "ZKYQZhHma1lJ"
      },
      "source": [
        "mpreds = model.predict(x_test)\n",
        "sc = r2_score(y_test['usd_pledged_real'],mpreds)\n",
        "print(sc)"
      ],
      "execution_count": null,
      "outputs": []
    }
  ]
}